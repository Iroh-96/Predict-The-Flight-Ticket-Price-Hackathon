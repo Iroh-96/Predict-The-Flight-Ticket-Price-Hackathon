{
  "nbformat": 4,
  "nbformat_minor": 0,
  "metadata": {
    "colab": {
      "name": "Predict The Flight Ticket Price Hackathon.ipynb",
      "provenance": []
    },
    "kernelspec": {
      "name": "python3",
      "display_name": "Python 3"
    }
  },
  "cells": [
    {
      "cell_type": "markdown",
      "metadata": {
        "id": "DjP8eqY24its"
      },
      "source": [
        "**Predict The Flight Ticket Price Hackathon**"
      ]
    },
    {
      "cell_type": "markdown",
      "metadata": {
        "id": "KL51sndo4x4V"
      },
      "source": [
        "**Import datasets and libraries**"
      ]
    },
    {
      "cell_type": "code",
      "metadata": {
        "id": "RfrnJdQl4-GW"
      },
      "source": [
        "import pandas as pd\n",
        "import numpy as np\n",
        "import matplotlib.pyplot as plt\n",
        "import warnings\n",
        "warnings.filterwarnings('ignore')"
      ],
      "execution_count": 36,
      "outputs": []
    },
    {
      "cell_type": "code",
      "metadata": {
        "id": "R24Xs-3h5Aw2"
      },
      "source": [
        "train = pd.read_excel('Data_Train.xlsx')\n",
        "test = pd.read_excel('Test_set.xlsx')"
      ],
      "execution_count": 37,
      "outputs": []
    },
    {
      "cell_type": "code",
      "metadata": {
        "id": "PmErgGGW5DKU",
        "outputId": "405a3b06-4d72-41d9-98b5-47f6623ddd29",
        "colab": {
          "base_uri": "https://localhost:8080/"
        }
      },
      "source": [
        "train.shape, test.shape"
      ],
      "execution_count": 38,
      "outputs": [
        {
          "output_type": "execute_result",
          "data": {
            "text/plain": [
              "((10683, 11), (2671, 10))"
            ]
          },
          "metadata": {
            "tags": []
          },
          "execution_count": 38
        }
      ]
    },
    {
      "cell_type": "code",
      "metadata": {
        "id": "cOw59cB-5FOM",
        "outputId": "b67d7b70-0afd-47dc-c479-3bac982c0e25",
        "colab": {
          "base_uri": "https://localhost:8080/"
        }
      },
      "source": [
        "train.info()"
      ],
      "execution_count": 39,
      "outputs": [
        {
          "output_type": "stream",
          "text": [
            "<class 'pandas.core.frame.DataFrame'>\n",
            "RangeIndex: 10683 entries, 0 to 10682\n",
            "Data columns (total 11 columns):\n",
            " #   Column           Non-Null Count  Dtype \n",
            "---  ------           --------------  ----- \n",
            " 0   Airline          10683 non-null  object\n",
            " 1   Date_of_Journey  10683 non-null  object\n",
            " 2   Source           10683 non-null  object\n",
            " 3   Destination      10683 non-null  object\n",
            " 4   Route            10682 non-null  object\n",
            " 5   Dep_Time         10683 non-null  object\n",
            " 6   Arrival_Time     10683 non-null  object\n",
            " 7   Duration         10683 non-null  object\n",
            " 8   Total_Stops      10682 non-null  object\n",
            " 9   Additional_Info  10683 non-null  object\n",
            " 10  Price            10683 non-null  int64 \n",
            "dtypes: int64(1), object(10)\n",
            "memory usage: 918.2+ KB\n"
          ],
          "name": "stdout"
        }
      ]
    },
    {
      "cell_type": "code",
      "metadata": {
        "id": "YlCfimLJ5HvM",
        "outputId": "7208e51b-bda7-4a2c-d3ee-0125915517ba",
        "colab": {
          "base_uri": "https://localhost:8080/",
          "height": 229
        }
      },
      "source": [
        "train.head(5)"
      ],
      "execution_count": 40,
      "outputs": [
        {
          "output_type": "execute_result",
          "data": {
            "text/html": [
              "<div>\n",
              "<style scoped>\n",
              "    .dataframe tbody tr th:only-of-type {\n",
              "        vertical-align: middle;\n",
              "    }\n",
              "\n",
              "    .dataframe tbody tr th {\n",
              "        vertical-align: top;\n",
              "    }\n",
              "\n",
              "    .dataframe thead th {\n",
              "        text-align: right;\n",
              "    }\n",
              "</style>\n",
              "<table border=\"1\" class=\"dataframe\">\n",
              "  <thead>\n",
              "    <tr style=\"text-align: right;\">\n",
              "      <th></th>\n",
              "      <th>Airline</th>\n",
              "      <th>Date_of_Journey</th>\n",
              "      <th>Source</th>\n",
              "      <th>Destination</th>\n",
              "      <th>Route</th>\n",
              "      <th>Dep_Time</th>\n",
              "      <th>Arrival_Time</th>\n",
              "      <th>Duration</th>\n",
              "      <th>Total_Stops</th>\n",
              "      <th>Additional_Info</th>\n",
              "      <th>Price</th>\n",
              "    </tr>\n",
              "  </thead>\n",
              "  <tbody>\n",
              "    <tr>\n",
              "      <th>0</th>\n",
              "      <td>IndiGo</td>\n",
              "      <td>24/03/2019</td>\n",
              "      <td>Banglore</td>\n",
              "      <td>New Delhi</td>\n",
              "      <td>BLR → DEL</td>\n",
              "      <td>22:20</td>\n",
              "      <td>01:10 22 Mar</td>\n",
              "      <td>2h 50m</td>\n",
              "      <td>non-stop</td>\n",
              "      <td>No info</td>\n",
              "      <td>3897</td>\n",
              "    </tr>\n",
              "    <tr>\n",
              "      <th>1</th>\n",
              "      <td>Air India</td>\n",
              "      <td>1/05/2019</td>\n",
              "      <td>Kolkata</td>\n",
              "      <td>Banglore</td>\n",
              "      <td>CCU → IXR → BBI → BLR</td>\n",
              "      <td>05:50</td>\n",
              "      <td>13:15</td>\n",
              "      <td>7h 25m</td>\n",
              "      <td>2 stops</td>\n",
              "      <td>No info</td>\n",
              "      <td>7662</td>\n",
              "    </tr>\n",
              "    <tr>\n",
              "      <th>2</th>\n",
              "      <td>Jet Airways</td>\n",
              "      <td>9/06/2019</td>\n",
              "      <td>Delhi</td>\n",
              "      <td>Cochin</td>\n",
              "      <td>DEL → LKO → BOM → COK</td>\n",
              "      <td>09:25</td>\n",
              "      <td>04:25 10 Jun</td>\n",
              "      <td>19h</td>\n",
              "      <td>2 stops</td>\n",
              "      <td>No info</td>\n",
              "      <td>13882</td>\n",
              "    </tr>\n",
              "    <tr>\n",
              "      <th>3</th>\n",
              "      <td>IndiGo</td>\n",
              "      <td>12/05/2019</td>\n",
              "      <td>Kolkata</td>\n",
              "      <td>Banglore</td>\n",
              "      <td>CCU → NAG → BLR</td>\n",
              "      <td>18:05</td>\n",
              "      <td>23:30</td>\n",
              "      <td>5h 25m</td>\n",
              "      <td>1 stop</td>\n",
              "      <td>No info</td>\n",
              "      <td>6218</td>\n",
              "    </tr>\n",
              "    <tr>\n",
              "      <th>4</th>\n",
              "      <td>IndiGo</td>\n",
              "      <td>01/03/2019</td>\n",
              "      <td>Banglore</td>\n",
              "      <td>New Delhi</td>\n",
              "      <td>BLR → NAG → DEL</td>\n",
              "      <td>16:50</td>\n",
              "      <td>21:35</td>\n",
              "      <td>4h 45m</td>\n",
              "      <td>1 stop</td>\n",
              "      <td>No info</td>\n",
              "      <td>13302</td>\n",
              "    </tr>\n",
              "  </tbody>\n",
              "</table>\n",
              "</div>"
            ],
            "text/plain": [
              "       Airline Date_of_Journey    Source  ... Total_Stops Additional_Info  Price\n",
              "0       IndiGo      24/03/2019  Banglore  ...    non-stop         No info   3897\n",
              "1    Air India       1/05/2019   Kolkata  ...     2 stops         No info   7662\n",
              "2  Jet Airways       9/06/2019     Delhi  ...     2 stops         No info  13882\n",
              "3       IndiGo      12/05/2019   Kolkata  ...      1 stop         No info   6218\n",
              "4       IndiGo      01/03/2019  Banglore  ...      1 stop         No info  13302\n",
              "\n",
              "[5 rows x 11 columns]"
            ]
          },
          "metadata": {
            "tags": []
          },
          "execution_count": 40
        }
      ]
    },
    {
      "cell_type": "code",
      "metadata": {
        "id": "OEBwLP3l5Jw4",
        "outputId": "faca8e39-34ee-4081-db07-1e88bde893d0",
        "colab": {
          "base_uri": "https://localhost:8080/"
        }
      },
      "source": [
        "for i in train.columns:\n",
        "    print(\"Unique values in\", i, train[i].nunique())"
      ],
      "execution_count": 41,
      "outputs": [
        {
          "output_type": "stream",
          "text": [
            "Unique values in Airline 12\n",
            "Unique values in Date_of_Journey 44\n",
            "Unique values in Source 5\n",
            "Unique values in Destination 6\n",
            "Unique values in Route 128\n",
            "Unique values in Dep_Time 222\n",
            "Unique values in Arrival_Time 1343\n",
            "Unique values in Duration 368\n",
            "Unique values in Total_Stops 5\n",
            "Unique values in Additional_Info 10\n",
            "Unique values in Price 1870\n"
          ],
          "name": "stdout"
        }
      ]
    },
    {
      "cell_type": "code",
      "metadata": {
        "id": "UdtHbfYr5MFh",
        "outputId": "a109d57b-4c80-4a0b-dc05-a07a6f8f8a7f",
        "colab": {
          "base_uri": "https://localhost:8080/"
        }
      },
      "source": [
        "for i in test.columns:\n",
        "    print(\"Unique values in\", i, test[i].nunique())"
      ],
      "execution_count": 42,
      "outputs": [
        {
          "output_type": "stream",
          "text": [
            "Unique values in Airline 11\n",
            "Unique values in Date_of_Journey 44\n",
            "Unique values in Source 5\n",
            "Unique values in Destination 6\n",
            "Unique values in Route 100\n",
            "Unique values in Dep_Time 199\n",
            "Unique values in Arrival_Time 704\n",
            "Unique values in Duration 320\n",
            "Unique values in Total_Stops 5\n",
            "Unique values in Additional_Info 6\n"
          ],
          "name": "stdout"
        }
      ]
    },
    {
      "cell_type": "markdown",
      "metadata": {
        "id": "5g562Cx75Tqu"
      },
      "source": [
        "**Data Preprocessing/EDA**"
      ]
    },
    {
      "cell_type": "code",
      "metadata": {
        "id": "DEpklYpu6Tws",
        "outputId": "aa998736-c710-44ac-e412-a0a47052fe58",
        "colab": {
          "base_uri": "https://localhost:8080/"
        }
      },
      "source": [
        "# chechking the features in the Datasets\n",
        "\n",
        "#Training Set\n",
        "\n",
        "print(\"\\nEDA on Training Set\\n\")\n",
        "print(\"=\"*50)\n",
        "\n",
        "print(\"\\nFeatures/Columns : \\n\", train.columns)\n",
        "print(\"\\n\\nNumber of Features/Columns : \", len(train.columns))\n",
        "print(\"\\nNumber of Rows : \",len(train))\n",
        "print(\"\\n\\nData Types :\\n\", train.dtypes)\n",
        "\n",
        "print(\"\\n Contains NaN/Empty cells : \", train.isnull().values.any())\n",
        "\n",
        "print(\"\\n Total empty cells by column :\\n\", train.isnull().sum(), \"\\n\\n\")"
      ],
      "execution_count": 44,
      "outputs": [
        {
          "output_type": "stream",
          "text": [
            "\n",
            "EDA on Training Set\n",
            "\n",
            "==================================================\n",
            "\n",
            "Features/Columns : \n",
            " Index(['Airline', 'Date_of_Journey', 'Source', 'Destination', 'Route',\n",
            "       'Dep_Time', 'Arrival_Time', 'Duration', 'Total_Stops',\n",
            "       'Additional_Info', 'Price'],\n",
            "      dtype='object')\n",
            "\n",
            "\n",
            "Number of Features/Columns :  11\n",
            "\n",
            "Number of Rows :  10683\n",
            "\n",
            "\n",
            "Data Types :\n",
            " Airline            object\n",
            "Date_of_Journey    object\n",
            "Source             object\n",
            "Destination        object\n",
            "Route              object\n",
            "Dep_Time           object\n",
            "Arrival_Time       object\n",
            "Duration           object\n",
            "Total_Stops        object\n",
            "Additional_Info    object\n",
            "Price               int64\n",
            "dtype: object\n",
            "\n",
            " Contains NaN/Empty cells :  True\n",
            "\n",
            " Total empty cells by column :\n",
            " Airline            0\n",
            "Date_of_Journey    0\n",
            "Source             0\n",
            "Destination        0\n",
            "Route              1\n",
            "Dep_Time           0\n",
            "Arrival_Time       0\n",
            "Duration           0\n",
            "Total_Stops        1\n",
            "Additional_Info    0\n",
            "Price              0\n",
            "dtype: int64 \n",
            "\n",
            "\n"
          ],
          "name": "stdout"
        }
      ]
    },
    {
      "cell_type": "code",
      "metadata": {
        "id": "xpGkZ4jq7G4P",
        "outputId": "e4cae3d2-affa-4e3f-ae7c-a8e07c6f38d4",
        "colab": {
          "base_uri": "https://localhost:8080/"
        }
      },
      "source": [
        "\n",
        "# Test Set\n",
        "\n",
        "print(\"\\nEDA on Test Set\\n\")\n",
        "print(\"=\"*50)\n",
        "\n",
        "\n",
        "print(\"\\nFeatures/Columns : \\n\",test.columns)\n",
        "print(\"\\n\\nNumber of Features/Columns : \",len(test.columns))\n",
        "print(\"\\nNumber of Rows : \",len(test))\n",
        "print(\"\\n\\nData Types :\\n\", test.dtypes)\n",
        "print(\"\\n Contains NaN/Empty cells : \", test.isnull().values.any())\n",
        "print(\"\\n Total empty cells by column :\\n\", test.isnull().sum())"
      ],
      "execution_count": 45,
      "outputs": [
        {
          "output_type": "stream",
          "text": [
            "\n",
            "EDA on Test Set\n",
            "\n",
            "==================================================\n",
            "\n",
            "Features/Columns : \n",
            " Index(['Airline', 'Date_of_Journey', 'Source', 'Destination', 'Route',\n",
            "       'Dep_Time', 'Arrival_Time', 'Duration', 'Total_Stops',\n",
            "       'Additional_Info'],\n",
            "      dtype='object')\n",
            "\n",
            "\n",
            "Number of Features/Columns :  10\n",
            "\n",
            "Number of Rows :  2671\n",
            "\n",
            "\n",
            "Data Types :\n",
            " Airline            object\n",
            "Date_of_Journey    object\n",
            "Source             object\n",
            "Destination        object\n",
            "Route              object\n",
            "Dep_Time           object\n",
            "Arrival_Time       object\n",
            "Duration           object\n",
            "Total_Stops        object\n",
            "Additional_Info    object\n",
            "dtype: object\n",
            "\n",
            " Contains NaN/Empty cells :  False\n",
            "\n",
            " Total empty cells by column :\n",
            " Airline            0\n",
            "Date_of_Journey    0\n",
            "Source             0\n",
            "Destination        0\n",
            "Route              0\n",
            "Dep_Time           0\n",
            "Arrival_Time       0\n",
            "Duration           0\n",
            "Total_Stops        0\n",
            "Additional_Info    0\n",
            "dtype: int64\n"
          ],
          "name": "stdout"
        }
      ]
    },
    {
      "cell_type": "code",
      "metadata": {
        "id": "iyhK7wtR7gWL",
        "outputId": "686b133d-8121-475e-f399-fea8137be1ab",
        "colab": {
          "base_uri": "https://localhost:8080/"
        }
      },
      "source": [
        "# Dealing with the Missing Value\n",
        "\n",
        "print(\"Original Length of Training Set : \", len(train))\n",
        "\n",
        "train = train.dropna()\n",
        "\n",
        "print(\"Length of Training Set after dropping NaN: \", len(train))"
      ],
      "execution_count": 46,
      "outputs": [
        {
          "output_type": "stream",
          "text": [
            "Original Length of Training Set :  10683\n",
            "Length of Training Set after dropping NaN:  10682\n"
          ],
          "name": "stdout"
        }
      ]
    },
    {
      "cell_type": "code",
      "metadata": {
        "id": "NMGvcRP-7qXl"
      },
      "source": [
        "#Cleaning Journey Date \n",
        "\n",
        "#Training Set\n",
        "\n",
        "train['Journey_Day'] = pd.to_datetime(train.Date_of_Journey, format='%d/%m/%Y').dt.day\n",
        "\n",
        "train['Journey_Month'] = pd.to_datetime(train.Date_of_Journey, format='%d/%m/%Y').dt.month\n",
        "\n",
        "# Test Set\n",
        "\n",
        "test['Journey_Day'] = pd.to_datetime(test.Date_of_Journey, format='%d/%m/%Y').dt.day\n",
        "\n",
        "test['Journey_Month'] = pd.to_datetime(test.Date_of_Journey, format='%d/%m/%Y').dt.month\n",
        "\n",
        "# Compare the dates and delete the original date feature\n",
        "\n",
        "train.drop(labels = 'Date_of_Journey', axis = 1, inplace = True)\n",
        "\n",
        "test.drop(labels = 'Date_of_Journey', axis = 1, inplace = True)"
      ],
      "execution_count": 47,
      "outputs": []
    },
    {
      "cell_type": "code",
      "metadata": {
        "id": "rv-Z95db79W5"
      },
      "source": [
        "# Cleaning Duration\n",
        "\n",
        "# Training Set\n",
        "\n",
        "duration = list(train['Duration'])\n",
        "\n",
        "for i in range(len(duration)) :\n",
        "    if len(duration[i].split()) != 2:\n",
        "        if 'h' in duration[i] :\n",
        "            duration[i] = duration[i].strip() + ' 0m'\n",
        "        elif 'm' in duration[i] :\n",
        "            duration[i] = '0h {}'.format(duration[i].strip())\n",
        "\n",
        "dur_hours = []\n",
        "dur_minutes = []  \n",
        "\n",
        "for i in range(len(duration)) :\n",
        "    dur_hours.append(int(duration[i].split()[0][:-1]))\n",
        "    dur_minutes.append(int(duration[i].split()[1][:-1]))\n",
        "    \n",
        "train['Duration_hours'] = dur_hours\n",
        "train['Duration_minutes'] =dur_minutes\n",
        "\n",
        "train.drop(labels = 'Duration', axis = 1, inplace = True)"
      ],
      "execution_count": 48,
      "outputs": []
    },
    {
      "cell_type": "code",
      "metadata": {
        "id": "PG3s2zjt8KzR"
      },
      "source": [
        "\n",
        "# Test Set\n",
        "\n",
        "durationT = list(test['Duration'])\n",
        "\n",
        "for i in range(len(durationT)) :\n",
        "    if len(durationT[i].split()) != 2:\n",
        "        if 'h' in durationT[i] :\n",
        "            durationT[i] = durationT[i].strip() + ' 0m'\n",
        "        elif 'm' in durationT[i] :\n",
        "            durationT[i] = '0h {}'.format(durationT[i].strip())\n",
        "            \n",
        "dur_hours = []\n",
        "dur_minutes = []  \n",
        "\n",
        "for i in range(len(durationT)) :\n",
        "    dur_hours.append(int(durationT[i].split()[0][:-1]))\n",
        "    dur_minutes.append(int(durationT[i].split()[1][:-1]))\n",
        "  \n",
        "    \n",
        "test['Duration_hours'] = dur_hours\n",
        "test['Duration_minutes'] = dur_minutes\n",
        "\n",
        "test.drop(labels = 'Duration', axis = 1, inplace = True)"
      ],
      "execution_count": 49,
      "outputs": []
    },
    {
      "cell_type": "code",
      "metadata": {
        "id": "ONuFq9RM8TU1"
      },
      "source": [
        "\n",
        "#Cleaning Departure and Arrival Times\n",
        "\n",
        "# Training Set\n",
        "\n",
        "\n",
        "train['Depart_Time_Hour'] = pd.to_datetime(train.Dep_Time).dt.hour\n",
        "train['Depart_Time_Minutes'] = pd.to_datetime(train.Dep_Time).dt.minute\n",
        "\n",
        "train.drop(labels = 'Dep_Time', axis = 1, inplace = True)\n",
        "\n",
        "\n",
        "train['Arr_Time_Hour'] = pd.to_datetime(train.Arrival_Time).dt.hour\n",
        "train['Arr_Time_Minutes'] = pd.to_datetime(train.Arrival_Time).dt.minute\n",
        "\n",
        "train.drop(labels = 'Arrival_Time', axis = 1, inplace = True)"
      ],
      "execution_count": 50,
      "outputs": []
    },
    {
      "cell_type": "code",
      "metadata": {
        "id": "56rcxPXR8gyd"
      },
      "source": [
        "# Test Set\n",
        "\n",
        "\n",
        "test['Depart_Time_Hour'] = pd.to_datetime(test.Dep_Time).dt.hour\n",
        "test['Depart_Time_Minutes'] = pd.to_datetime(test.Dep_Time).dt.minute\n",
        "\n",
        "\n",
        "test.drop(labels = 'Dep_Time', axis = 1, inplace = True)\n",
        "\n",
        "test['Arr_Time_Hour'] = pd.to_datetime(test.Arrival_Time).dt.hour\n",
        "test['Arr_Time_Minutes'] = pd.to_datetime(test.Arrival_Time).dt.minute\n",
        "\n",
        "test.drop(labels = 'Arrival_Time', axis = 1, inplace = True)"
      ],
      "execution_count": 51,
      "outputs": []
    },
    {
      "cell_type": "code",
      "metadata": {
        "id": "q0MqG9Ow8rlJ",
        "outputId": "56057e79-7669-48b6-d101-e1688a40efe0",
        "colab": {
          "base_uri": "https://localhost:8080/",
          "height": 585
        }
      },
      "source": [
        "train.head()"
      ],
      "execution_count": 52,
      "outputs": [
        {
          "output_type": "execute_result",
          "data": {
            "text/html": [
              "<div>\n",
              "<style scoped>\n",
              "    .dataframe tbody tr th:only-of-type {\n",
              "        vertical-align: middle;\n",
              "    }\n",
              "\n",
              "    .dataframe tbody tr th {\n",
              "        vertical-align: top;\n",
              "    }\n",
              "\n",
              "    .dataframe thead th {\n",
              "        text-align: right;\n",
              "    }\n",
              "</style>\n",
              "<table border=\"1\" class=\"dataframe\">\n",
              "  <thead>\n",
              "    <tr style=\"text-align: right;\">\n",
              "      <th></th>\n",
              "      <th>Airline</th>\n",
              "      <th>Source</th>\n",
              "      <th>Destination</th>\n",
              "      <th>Route</th>\n",
              "      <th>Total_Stops</th>\n",
              "      <th>Additional_Info</th>\n",
              "      <th>Price</th>\n",
              "      <th>Journey_Day</th>\n",
              "      <th>Journey_Month</th>\n",
              "      <th>Duration_hours</th>\n",
              "      <th>Duration_minutes</th>\n",
              "      <th>Depart_Time_Hour</th>\n",
              "      <th>Depart_Time_Minutes</th>\n",
              "      <th>Arr_Time_Hour</th>\n",
              "      <th>Arr_Time_Minutes</th>\n",
              "    </tr>\n",
              "  </thead>\n",
              "  <tbody>\n",
              "    <tr>\n",
              "      <th>0</th>\n",
              "      <td>IndiGo</td>\n",
              "      <td>Banglore</td>\n",
              "      <td>New Delhi</td>\n",
              "      <td>BLR → DEL</td>\n",
              "      <td>non-stop</td>\n",
              "      <td>No info</td>\n",
              "      <td>3897</td>\n",
              "      <td>24</td>\n",
              "      <td>3</td>\n",
              "      <td>2</td>\n",
              "      <td>50</td>\n",
              "      <td>22</td>\n",
              "      <td>20</td>\n",
              "      <td>1</td>\n",
              "      <td>10</td>\n",
              "    </tr>\n",
              "    <tr>\n",
              "      <th>1</th>\n",
              "      <td>Air India</td>\n",
              "      <td>Kolkata</td>\n",
              "      <td>Banglore</td>\n",
              "      <td>CCU → IXR → BBI → BLR</td>\n",
              "      <td>2 stops</td>\n",
              "      <td>No info</td>\n",
              "      <td>7662</td>\n",
              "      <td>1</td>\n",
              "      <td>5</td>\n",
              "      <td>7</td>\n",
              "      <td>25</td>\n",
              "      <td>5</td>\n",
              "      <td>50</td>\n",
              "      <td>13</td>\n",
              "      <td>15</td>\n",
              "    </tr>\n",
              "    <tr>\n",
              "      <th>2</th>\n",
              "      <td>Jet Airways</td>\n",
              "      <td>Delhi</td>\n",
              "      <td>Cochin</td>\n",
              "      <td>DEL → LKO → BOM → COK</td>\n",
              "      <td>2 stops</td>\n",
              "      <td>No info</td>\n",
              "      <td>13882</td>\n",
              "      <td>9</td>\n",
              "      <td>6</td>\n",
              "      <td>19</td>\n",
              "      <td>0</td>\n",
              "      <td>9</td>\n",
              "      <td>25</td>\n",
              "      <td>4</td>\n",
              "      <td>25</td>\n",
              "    </tr>\n",
              "    <tr>\n",
              "      <th>3</th>\n",
              "      <td>IndiGo</td>\n",
              "      <td>Kolkata</td>\n",
              "      <td>Banglore</td>\n",
              "      <td>CCU → NAG → BLR</td>\n",
              "      <td>1 stop</td>\n",
              "      <td>No info</td>\n",
              "      <td>6218</td>\n",
              "      <td>12</td>\n",
              "      <td>5</td>\n",
              "      <td>5</td>\n",
              "      <td>25</td>\n",
              "      <td>18</td>\n",
              "      <td>5</td>\n",
              "      <td>23</td>\n",
              "      <td>30</td>\n",
              "    </tr>\n",
              "    <tr>\n",
              "      <th>4</th>\n",
              "      <td>IndiGo</td>\n",
              "      <td>Banglore</td>\n",
              "      <td>New Delhi</td>\n",
              "      <td>BLR → NAG → DEL</td>\n",
              "      <td>1 stop</td>\n",
              "      <td>No info</td>\n",
              "      <td>13302</td>\n",
              "      <td>1</td>\n",
              "      <td>3</td>\n",
              "      <td>4</td>\n",
              "      <td>45</td>\n",
              "      <td>16</td>\n",
              "      <td>50</td>\n",
              "      <td>21</td>\n",
              "      <td>35</td>\n",
              "    </tr>\n",
              "  </tbody>\n",
              "</table>\n",
              "</div>"
            ],
            "text/plain": [
              "       Airline    Source  ... Arr_Time_Hour Arr_Time_Minutes\n",
              "0       IndiGo  Banglore  ...             1               10\n",
              "1    Air India   Kolkata  ...            13               15\n",
              "2  Jet Airways     Delhi  ...             4               25\n",
              "3       IndiGo   Kolkata  ...            23               30\n",
              "4       IndiGo  Banglore  ...            21               35\n",
              "\n",
              "[5 rows x 15 columns]"
            ]
          },
          "metadata": {
            "tags": []
          },
          "execution_count": 52
        }
      ]
    },
    {
      "cell_type": "code",
      "metadata": {
        "id": "BNrlfA9A8vbp",
        "outputId": "1d45e7a8-0ad2-4d7d-8d8e-91ff1ad45947",
        "colab": {
          "base_uri": "https://localhost:8080/",
          "height": 518
        }
      },
      "source": [
        "test.head()"
      ],
      "execution_count": 53,
      "outputs": [
        {
          "output_type": "execute_result",
          "data": {
            "text/html": [
              "<div>\n",
              "<style scoped>\n",
              "    .dataframe tbody tr th:only-of-type {\n",
              "        vertical-align: middle;\n",
              "    }\n",
              "\n",
              "    .dataframe tbody tr th {\n",
              "        vertical-align: top;\n",
              "    }\n",
              "\n",
              "    .dataframe thead th {\n",
              "        text-align: right;\n",
              "    }\n",
              "</style>\n",
              "<table border=\"1\" class=\"dataframe\">\n",
              "  <thead>\n",
              "    <tr style=\"text-align: right;\">\n",
              "      <th></th>\n",
              "      <th>Airline</th>\n",
              "      <th>Source</th>\n",
              "      <th>Destination</th>\n",
              "      <th>Route</th>\n",
              "      <th>Total_Stops</th>\n",
              "      <th>Additional_Info</th>\n",
              "      <th>Journey_Day</th>\n",
              "      <th>Journey_Month</th>\n",
              "      <th>Duration_hours</th>\n",
              "      <th>Duration_minutes</th>\n",
              "      <th>Depart_Time_Hour</th>\n",
              "      <th>Depart_Time_Minutes</th>\n",
              "      <th>Arr_Time_Hour</th>\n",
              "      <th>Arr_Time_Minutes</th>\n",
              "    </tr>\n",
              "  </thead>\n",
              "  <tbody>\n",
              "    <tr>\n",
              "      <th>0</th>\n",
              "      <td>Jet Airways</td>\n",
              "      <td>Delhi</td>\n",
              "      <td>Cochin</td>\n",
              "      <td>DEL → BOM → COK</td>\n",
              "      <td>1 stop</td>\n",
              "      <td>No info</td>\n",
              "      <td>6</td>\n",
              "      <td>6</td>\n",
              "      <td>10</td>\n",
              "      <td>55</td>\n",
              "      <td>17</td>\n",
              "      <td>30</td>\n",
              "      <td>4</td>\n",
              "      <td>25</td>\n",
              "    </tr>\n",
              "    <tr>\n",
              "      <th>1</th>\n",
              "      <td>IndiGo</td>\n",
              "      <td>Kolkata</td>\n",
              "      <td>Banglore</td>\n",
              "      <td>CCU → MAA → BLR</td>\n",
              "      <td>1 stop</td>\n",
              "      <td>No info</td>\n",
              "      <td>12</td>\n",
              "      <td>5</td>\n",
              "      <td>4</td>\n",
              "      <td>0</td>\n",
              "      <td>6</td>\n",
              "      <td>20</td>\n",
              "      <td>10</td>\n",
              "      <td>20</td>\n",
              "    </tr>\n",
              "    <tr>\n",
              "      <th>2</th>\n",
              "      <td>Jet Airways</td>\n",
              "      <td>Delhi</td>\n",
              "      <td>Cochin</td>\n",
              "      <td>DEL → BOM → COK</td>\n",
              "      <td>1 stop</td>\n",
              "      <td>In-flight meal not included</td>\n",
              "      <td>21</td>\n",
              "      <td>5</td>\n",
              "      <td>23</td>\n",
              "      <td>45</td>\n",
              "      <td>19</td>\n",
              "      <td>15</td>\n",
              "      <td>19</td>\n",
              "      <td>0</td>\n",
              "    </tr>\n",
              "    <tr>\n",
              "      <th>3</th>\n",
              "      <td>Multiple carriers</td>\n",
              "      <td>Delhi</td>\n",
              "      <td>Cochin</td>\n",
              "      <td>DEL → BOM → COK</td>\n",
              "      <td>1 stop</td>\n",
              "      <td>No info</td>\n",
              "      <td>21</td>\n",
              "      <td>5</td>\n",
              "      <td>13</td>\n",
              "      <td>0</td>\n",
              "      <td>8</td>\n",
              "      <td>0</td>\n",
              "      <td>21</td>\n",
              "      <td>0</td>\n",
              "    </tr>\n",
              "    <tr>\n",
              "      <th>4</th>\n",
              "      <td>Air Asia</td>\n",
              "      <td>Banglore</td>\n",
              "      <td>Delhi</td>\n",
              "      <td>BLR → DEL</td>\n",
              "      <td>non-stop</td>\n",
              "      <td>No info</td>\n",
              "      <td>24</td>\n",
              "      <td>6</td>\n",
              "      <td>2</td>\n",
              "      <td>50</td>\n",
              "      <td>23</td>\n",
              "      <td>55</td>\n",
              "      <td>2</td>\n",
              "      <td>45</td>\n",
              "    </tr>\n",
              "  </tbody>\n",
              "</table>\n",
              "</div>"
            ],
            "text/plain": [
              "             Airline    Source  ... Arr_Time_Hour Arr_Time_Minutes\n",
              "0        Jet Airways     Delhi  ...             4               25\n",
              "1             IndiGo   Kolkata  ...            10               20\n",
              "2        Jet Airways     Delhi  ...            19                0\n",
              "3  Multiple carriers     Delhi  ...            21                0\n",
              "4           Air Asia  Banglore  ...             2               45\n",
              "\n",
              "[5 rows x 14 columns]"
            ]
          },
          "metadata": {
            "tags": []
          },
          "execution_count": 53
        }
      ]
    },
    {
      "cell_type": "code",
      "metadata": {
        "id": "2e4N_b9Q80kC"
      },
      "source": [
        "# Dependent Variable\n",
        "Y_train = train.iloc[:,6].values  # 6 is the index of \"Price\" in the Training Set \n",
        "\n",
        "# Independent Variables\n",
        "X_train = train.iloc[:,train.columns != 'Price'].values # selects all columns except \"Price\"\n",
        "\n",
        "# Independent Variables for Test Set\n",
        "X_test = test.iloc[:,:].values"
      ],
      "execution_count": 54,
      "outputs": []
    },
    {
      "cell_type": "code",
      "metadata": {
        "id": "ZdaVsOMN8-bB"
      },
      "source": [
        "from sklearn.preprocessing import LabelEncoder\n",
        "\n",
        "le1 = LabelEncoder()\n",
        "le2 = LabelEncoder()"
      ],
      "execution_count": 55,
      "outputs": []
    },
    {
      "cell_type": "code",
      "metadata": {
        "id": "O6uhYj1V9AjN"
      },
      "source": [
        "# Training Set    \n",
        "\n",
        "X_train[:,0] = le1.fit_transform(X_train[:,0])\n",
        "X_train[:,1] = le1.fit_transform(X_train[:,1])\n",
        "X_train[:,2] = le1.fit_transform(X_train[:,2])\n",
        "X_train[:,3] = le1.fit_transform(X_train[:,3])\n",
        "X_train[:,4] = le1.fit_transform(X_train[:,4])\n",
        "X_train[:,5] = le1.fit_transform(X_train[:,5])\n",
        "\n",
        "# Test Set\n",
        "\n",
        "X_test[:,0] = le2.fit_transform(X_test[:,0])\n",
        "X_test[:,1] = le2.fit_transform(X_test[:,1])\n",
        "X_test[:,2] = le2.fit_transform(X_test[:,2])\n",
        "X_test[:,3] = le2.fit_transform(X_test[:,3])\n",
        "X_test[:,4] = le2.fit_transform(X_test[:,4])\n",
        "X_test[:,5] = le2.fit_transform(X_test[:,5])"
      ],
      "execution_count": 56,
      "outputs": []
    },
    {
      "cell_type": "code",
      "metadata": {
        "id": "DyFW38vi9LsR",
        "outputId": "b93af894-d111-4b05-bb8c-d99e69edb34d",
        "colab": {
          "base_uri": "https://localhost:8080/"
        }
      },
      "source": [
        "#Data After Encoding\n",
        "print(pd.DataFrame(X_train).head())"
      ],
      "execution_count": 57,
      "outputs": [
        {
          "output_type": "stream",
          "text": [
            "  0  1  2    3  4  5   6  7   8   9   10  11  12  13\n",
            "0  3  0  5   18  4  8  24  3   2  50  22  20   1  10\n",
            "1  1  3  0   84  1  8   1  5   7  25   5  50  13  15\n",
            "2  4  2  1  118  1  8   9  6  19   0   9  25   4  25\n",
            "3  3  3  0   91  0  8  12  5   5  25  18   5  23  30\n",
            "4  3  0  5   29  0  8   1  3   4  45  16  50  21  35\n"
          ],
          "name": "stdout"
        }
      ]
    },
    {
      "cell_type": "code",
      "metadata": {
        "id": "gdI3jgIn9RIt"
      },
      "source": [
        "# Feature Scaling\n",
        "\n",
        "from sklearn.preprocessing import StandardScaler\n",
        "sc = StandardScaler()\n",
        "\n",
        "X_train = sc.fit_transform(X_train)\n",
        "X_test = sc.transform(X_test)\n",
        "\n",
        "\n",
        "Y_train = Y_train.reshape((len(Y_train), 1)) \n",
        "Y_train = sc.fit_transform(Y_train)\n",
        "Y_train = Y_train.ravel()"
      ],
      "execution_count": 58,
      "outputs": []
    },
    {
      "cell_type": "code",
      "metadata": {
        "id": "z_WfjmBQ9gi-",
        "outputId": "8b2e5d09-6b4b-4d81-e4a5-0a10bea3c485",
        "colab": {
          "base_uri": "https://localhost:8080/"
        }
      },
      "source": [
        "#After Scaling\n",
        "print(pd.DataFrame(X_train).head()) # Xtrain after scaling"
      ],
      "execution_count": 59,
      "outputs": [
        {
          "output_type": "stream",
          "text": [
            "         0         1         2   ...        11        12        13\n",
            "0 -0.410805 -1.658359  2.416534  ... -0.234950 -1.800436 -0.890014\n",
            "1 -1.261152  0.890014 -0.973812  ...  1.363607 -0.050909 -0.587094\n",
            "2  0.014369  0.040556 -0.295743  ...  0.031476 -1.363054  0.018745\n",
            "3 -0.410805  0.890014 -0.973812  ... -1.034229  1.407030  0.321664\n",
            "4 -0.410805 -1.658359  2.416534  ...  1.363607  1.115442  0.624584\n",
            "\n",
            "[5 rows x 14 columns]\n"
          ],
          "name": "stdout"
        }
      ]
    },
    {
      "cell_type": "code",
      "metadata": {
        "id": "ZP0xbQD69oV1",
        "outputId": "0449a040-e381-4250-cf63-a324b7c03816",
        "colab": {
          "base_uri": "https://localhost:8080/"
        }
      },
      "source": [
        "\n",
        "print(pd.DataFrame(Y_train).head())"
      ],
      "execution_count": 60,
      "outputs": [
        {
          "output_type": "stream",
          "text": [
            "          0\n",
            "0 -1.125535\n",
            "1 -0.309068\n",
            "2  1.039783\n",
            "3 -0.622209\n",
            "4  0.914006\n"
          ],
          "name": "stdout"
        }
      ]
    },
    {
      "cell_type": "code",
      "metadata": {
        "id": "pP5z9RnQ9rN9"
      },
      "source": [
        "from sklearn.svm import SVR\n",
        "\n",
        "svr = SVR(kernel = \"rbf\")\n",
        "svr.fit(X_train,Y_train)\n",
        "Y_pred = sc.inverse_transform(svr.predict(X_test))"
      ],
      "execution_count": 62,
      "outputs": []
    },
    {
      "cell_type": "code",
      "metadata": {
        "id": "_VCiEYDJ9v01",
        "outputId": "2ca871b2-1909-45f4-ef98-dbccf4c56c7e",
        "colab": {
          "base_uri": "https://localhost:8080/"
        }
      },
      "source": [
        "print(pd.DataFrame(Y_pred).head())"
      ],
      "execution_count": 63,
      "outputs": [
        {
          "output_type": "stream",
          "text": [
            "              0\n",
            "0  10547.002077\n",
            "1   6773.635780\n",
            "2  11482.732670\n",
            "3  11281.247128\n",
            "4   4379.175423\n"
          ],
          "name": "stdout"
        }
      ]
    },
    {
      "cell_type": "code",
      "metadata": {
        "id": "KXdlroZe92yC"
      },
      "source": [
        "pd.DataFrame(Y_pred, columns = ['Price']).to_excel(\"Sub_Final_Predictions.xlsx\", index = False)"
      ],
      "execution_count": 64,
      "outputs": []
    },
    {
      "cell_type": "code",
      "metadata": {
        "id": "lXidW2vv99vZ"
      },
      "source": [
        ""
      ],
      "execution_count": null,
      "outputs": []
    }
  ]
}